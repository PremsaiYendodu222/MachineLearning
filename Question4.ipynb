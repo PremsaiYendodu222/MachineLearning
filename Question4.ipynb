{
  "nbformat": 4,
  "nbformat_minor": 0,
  "metadata": {
    "colab": {
      "provenance": [],
      "authorship_tag": "ABX9TyPzO3XqmZm/Kk/3Y5Oxgy/7",
      "include_colab_link": true
    },
    "kernelspec": {
      "name": "python3",
      "display_name": "Python 3"
    },
    "language_info": {
      "name": "python"
    }
  },
  "cells": [
    {
      "cell_type": "markdown",
      "metadata": {
        "id": "view-in-github",
        "colab_type": "text"
      },
      "source": [
        "<a href=\"https://colab.research.google.com/github/PremsaiYendodu222/MachineLearning/blob/main/Question4.ipynb\" target=\"_parent\"><img src=\"https://colab.research.google.com/assets/colab-badge.svg\" alt=\"Open In Colab\"/></a>"
      ]
    },
    {
      "cell_type": "code",
      "execution_count": 10,
      "metadata": {
        "colab": {
          "base_uri": "https://localhost:8080/"
        },
        "id": "0WNDoFXb4-AV",
        "outputId": "4d438e3d-065f-490d-8a66-046a0d3ed30b"
      },
      "outputs": [
        {
          "output_type": "stream",
          "name": "stdout",
          "text": [
            "length of it_companies:  7\n",
            "add new company:  {'Oracle', 'Apple', 'Facebook', 'IBM', 'twitter', 'Google', 'Microsoft', 'Amazon'}\n",
            "updated it companies: {'Facebook', 'Walmart', 'twitter', 'Accenture', 'IBM', 'Google', 'Oracle', 'Microsoft', 'Amazon', 'Apple', 'BOFA'}\n",
            "remove it companies: {'Facebook', 'Walmart', 'twitter', 'IBM', 'Google', 'Oracle', 'Microsoft', 'Amazon', 'Apple', 'BOFA'}\n",
            "discard it companies: {'Facebook', 'Walmart', 'twitter', 'IBM', 'Google', 'Oracle', 'Microsoft', 'Amazon', 'Apple', 'BOFA'}\n",
            "join A union B:{19, 20, 22, 24, 25, 26, 27, 28}\n",
            "join A intersection B:{19, 20, 22, 24, 25, 26}\n",
            "if A is subset of B:True\n",
            "if A is disjoint of B:False\n",
            "{19, 20, 22, 24, 25, 26, 27, 28}\n",
            "{19, 20, 22, 24, 25, 26, 27, 28}\n",
            "symmetric difference:set()\n",
            "deleting both A and B:  None None\n",
            "The length of the list age:8\n",
            "The length of the set age:8\n"
          ]
        }
      ],
      "source": [
        "#QUESTION 4\n",
        "\n",
        "it_companies = {'Facebook', 'Google', 'Microsoft', 'Apple', 'IBM', 'Oracle', 'Amazon'}\n",
        "A = {19, 22, 24, 20, 25, 26}\n",
        "B = {19, 22, 20, 25, 26, 24, 28, 27}\n",
        "age = [22, 19, 24, 25, 26, 24, 25, 24]\n",
        "count = len(it_companies)\n",
        "print(f\"length of it_companies: \", count)                  #Printing the length of companies\n",
        "\n",
        "it_companies.add(\"twitter\")                                 #add twitter to the it_companies Set\n",
        "\n",
        "print(f\"add new company: \", it_companies)\n",
        "it_companies.update(['Walmart', 'Accenture', 'BOFA'])  # multiple it companies\n",
        "print(f\"updated it companies:\", it_companies)\n",
        "\n",
        "it_companies.remove('Accenture')                           #remove one company(which raises error)\n",
        "print(f\"remove it companies:\", it_companies)\n",
        "\n",
        "it_companies.discard('infosys')                           #discard which doesnt raise an error\n",
        "print(f\"discard it companies:\", it_companies)\n",
        "\n",
        "print(f\"join A union B:{A | B}\")                          # Printing the Union of A and B\n",
        "print(f\"join A intersection B:{A & B}\")                   # Printing the intersection of A and B\n",
        "print(f\"if A is subset of B:{A.issubset(B)}\")             #Printing the subset of B\n",
        "print(f\"if A is disjoint of B:{A.isdisjoint(B)}\")         #printng the disjoint of B\n",
        "\n",
        "A.update(B)                                               #joint A with B and B with A\n",
        "print(A)\n",
        "B.update(A)\n",
        "print(B)\n",
        "\n",
        "print(f\"symmetric difference:{A.symmetric_difference(B)}\") #Printing the symmetric difference\n",
        "A.clear()\n",
        "B.clear()\n",
        "print(f\"deleting both A and B: \", A.clear(), B.clear())    #Printing the deleted set\n",
        "print(f\"The length of the list age:{len(age)}\")\n",
        "AgeSet=set(age)                                            #convert age to set and compare length of list and set\n",
        "print(f\"The length of the set age:{len(age)}\")\n"
      ]
    }
  ]
}