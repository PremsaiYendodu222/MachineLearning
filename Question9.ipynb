{
  "nbformat": 4,
  "nbformat_minor": 0,
  "metadata": {
    "colab": {
      "provenance": [],
      "authorship_tag": "ABX9TyMgmmexD5eIzJCbqEtl/+ls",
      "include_colab_link": true
    },
    "kernelspec": {
      "name": "python3",
      "display_name": "Python 3"
    },
    "language_info": {
      "name": "python"
    }
  },
  "cells": [
    {
      "cell_type": "markdown",
      "metadata": {
        "id": "view-in-github",
        "colab_type": "text"
      },
      "source": [
        "<a href=\"https://colab.research.google.com/github/PremsaiYendodu222/MachineLearning/blob/main/Question9.ipynb\" target=\"_parent\"><img src=\"https://colab.research.google.com/assets/colab-badge.svg\" alt=\"Open In Colab\"/></a>"
      ]
    },
    {
      "cell_type": "code",
      "execution_count": 9,
      "metadata": {
        "colab": {
          "base_uri": "https://localhost:8080/"
        },
        "id": "0WNDoFXb4-AV",
        "outputId": "a18ff5db-0b21-4158-e972-d01360488529"
      },
      "outputs": [
        {
          "output_type": "stream",
          "name": "stdout",
          "text": [
            "weight in kgs:  [68.0388, 70.30676, 65.77083999999999, 67.131616]\n"
          ]
        }
      ],
      "source": [
        "#QUESTION 9\n",
        "\n",
        "#list of students weights\n",
        "weight_lbs = [150, 155, 145, 148]\n",
        "weight_kgs = []\n",
        "\n",
        "#converting weight to kgs\n",
        "for x in weight_lbs:\n",
        "    weight_kgs.append(x*0.453592)\n",
        "print(f\"weight in kgs: \",weight_kgs)   # Printing the Weight in Kgs"
      ]
    }
  ]
}