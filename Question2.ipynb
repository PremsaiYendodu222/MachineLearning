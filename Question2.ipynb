{
  "nbformat": 4,
  "nbformat_minor": 0,
  "metadata": {
    "colab": {
      "provenance": [],
      "authorship_tag": "ABX9TyPRryWkgIzg2l4sIy3HE82Z",
      "include_colab_link": true
    },
    "kernelspec": {
      "name": "python3",
      "display_name": "Python 3"
    },
    "language_info": {
      "name": "python"
    }
  },
  "cells": [
    {
      "cell_type": "markdown",
      "metadata": {
        "id": "view-in-github",
        "colab_type": "text"
      },
      "source": [
        "<a href=\"https://colab.research.google.com/github/PremsaiYendodu222/MachineLearning/blob/main/Question2.ipynb\" target=\"_parent\"><img src=\"https://colab.research.google.com/assets/colab-badge.svg\" alt=\"Open In Colab\"/></a>"
      ]
    },
    {
      "cell_type": "code",
      "execution_count": 2,
      "metadata": {
        "colab": {
          "base_uri": "https://localhost:8080/"
        },
        "id": "0WNDoFXb4-AV",
        "outputId": "a851c7cd-f15c-4d19-ce3c-b814c9e2559d"
      },
      "outputs": [
        {
          "output_type": "stream",
          "name": "stdout",
          "text": [
            "length of student: 9\n",
            "<class 'list'> ['Critical Thinking ']\n",
            "['Critical Thinking ', 'Communication', 'Creativity', 'Leadership']\n",
            "keys of student dictionary:dict_keys(['first_name', 'last_name', 'gender', 'age', 'martial status', 'skills', 'country', 'city', 'address'])\n",
            "values of student dictionary: dict_values(['Vinay', 'Veereddy', 'Male', '25', 'Single', ['Critical Thinking ', 'Communication', 'Creativity', 'Leadership'], 'india', 'Hyderabad', 'DilshukNagar'])\n"
          ]
        }
      ],
      "source": [
        "#QUESTION 2\n",
        "\n",
        "dog = {} #Created a empty dictionary\n",
        "dog = {\"name\":\"Max\", \"color\":\"brown\", \"bread\":\"Poomarian\", \"legs\":\"4\", \"age\":\"2\"} #adding keys and values to the created directory\n",
        "\n",
        "#Created a empty student dictionary\n",
        "student= {}\n",
        "student= {\"first_name\":\"Vinay\",\"last_name\":\"Veereddy\",\"gender\":\"Male\",\"age\":\"25\",\"martial status\":\"Single\",\n",
        "           \"skills\":['Critical Thinking '],\"country\":\"india\",\"city\":\"Hyderabad\",\"address\":\"DilshukNagar\"} #adding key values to Student Dictionary\n",
        "\n",
        "print(f\"length of student: {len(student)}\") # Printing the lenght of student dictionary\n",
        "\n",
        "print(type(student['skills']),student['skills'])         #Printing the values in skills and type of date\n",
        "\n",
        "student['skills'].extend(['Communication', 'Creativity', 'Leadership']) #modifying skills by extend function\n",
        "print(student['skills'])\n",
        "\n",
        "print(f\"keys of student dictionary:{student.keys()}\")   #Printing dictionary keys as list\n",
        "\n",
        "print(f\"values of student dictionary: {student.values()}\") #Printing dictionary keys as values\n",
        "\n",
        ""
      ]
    }
  ]
}