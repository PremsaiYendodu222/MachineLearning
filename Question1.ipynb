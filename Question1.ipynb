{
  "cells": [
    {
      "cell_type": "markdown",
      "metadata": {
        "colab_type": "text",
        "id": "view-in-github"
      },
      "source": [
        "<a href=\"https://colab.research.google.com/github/PremsaiYendodu222/MachineLearning/blob/main/Question1.ipynb\" target=\"_parent\"><img src=\"https://colab.research.google.com/assets/colab-badge.svg\" alt=\"Open In Colab\"/></a>"
      ]
    },
    {
      "cell_type": "code",
      "execution_count": null,
      "metadata": {
        "colab": {
          "base_uri": "https://localhost:8080/"
        },
        "id": "0WNDoFXb4-AV",
        "outputId": "c5a6c2c3-6ad3-41ef-eb1f-18fb7ccfa32b"
      },
      "outputs": [
        {
          "name": "stdout",
          "output_type": "stream",
          "text": [
            "sorted list =  [19, 19, 20, 22, 24, 24, 24, 25, 25, 26]\n",
            "max age:26, min age:19\n",
            "added list: [19, 19, 20, 22, 24, 24, 24, 25, 25, 26, 19, 26]\n",
            "6\n",
            "The median of ages: 24\n",
            "Average age is: 22.75\n",
            "Range of the ages: 7\n"
          ]
        }
      ],
      "source": [
        "#QUESTION 1\n",
        "\n",
        "ages =  [19, 22, 19, 24, 20, 25, 26, 24, 25, 24] ##creating a list for the ages\n",
        "\n",
        "ages.sort() #sorting the Ages list\n",
        "print(\"sorted list = \", ages)\n",
        "\n",
        "print(f\"max age:{max(ages)}, min age:{min(ages)}\") #To print the min and max age\n",
        "ages.extend([min(ages),max(ages)]) #adding min and max ages to the ages list\n",
        "print(f\"added list: {ages}\") # list after addition\n",
        "\n",
        "Middle_Index = int(len(ages)/2) # middle index in the list\n",
        "print(Middle_Index)\n",
        "if Middle_Index % 2 == 0:   #Condition to find if the length is even\n",
        " print(f\"The median of ages: {int((ages[Middle_Index-1]  + ages[Middle_Index])/ 2)}\") #Printing the median age\n",
        "\n",
        "print(f\"Average age is: {sum(ages)/len(ages)}\")      #Printing the average age\n",
        "\n",
        "print(f\"Range of the ages: {max(ages) - min(ages)}\") # printing the range of the ages\n",
        "print(f\"max age:{max(ages)}, min age:{min(ages)}\") #To print the min and max age"
      ]
    }
  ],
  "metadata": {
    "colab": {
      "authorship_tag": "ABX9TyOwSHjmy2vNllG/akWtxROt",
      "include_colab_link": true,
      "provenance": []
    },
    "kernelspec": {
      "display_name": "Python 3",
      "name": "python3"
    },
    "language_info": {
      "name": "python"
    }
  },
  "nbformat": 4,
  "nbformat_minor": 0
}
