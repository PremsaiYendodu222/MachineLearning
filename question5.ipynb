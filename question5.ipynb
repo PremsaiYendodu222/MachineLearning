{
  "nbformat": 4,
  "nbformat_minor": 0,
  "metadata": {
    "colab": {
      "provenance": [],
      "authorship_tag": "ABX9TyNw+9Hrkx4wsZK+mF/PCyL9",
      "include_colab_link": true
    },
    "kernelspec": {
      "name": "python3",
      "display_name": "Python 3"
    },
    "language_info": {
      "name": "python"
    }
  },
  "cells": [
    {
      "cell_type": "markdown",
      "metadata": {
        "id": "view-in-github",
        "colab_type": "text"
      },
      "source": [
        "<a href=\"https://colab.research.google.com/github/PremsaiYendodu222/MachineLearning/blob/main/question5.ipynb\" target=\"_parent\"><img src=\"https://colab.research.google.com/assets/colab-badge.svg\" alt=\"Open In Colab\"/></a>"
      ]
    },
    {
      "cell_type": "code",
      "execution_count": 5,
      "metadata": {
        "colab": {
          "base_uri": "https://localhost:8080/"
        },
        "id": "0WNDoFXb4-AV",
        "outputId": "ba4007e9-136e-4a1e-9986-db88bc7bcb6e"
      },
      "outputs": [
        {
          "output_type": "stream",
          "name": "stdout",
          "text": [
            "radius of the circle is:  30\n",
            "area of circle:  2826.0\n",
            "circumference of circle:  188.4\n",
            "enter radius1234\n",
            "Area from user input radius:  4781453.84\n"
          ]
        }
      ],
      "source": [
        "#QUESTION 5\n",
        "\n",
        "radius=30                                       #taking radius as per input\n",
        "print(f\"radius of the circle is: \", radius)\n",
        "area_of_circle=3.14*(radius**2)                 #area of circle\n",
        "circumference_of_circle=2*3.14*radius           #circumference of circle\n",
        "print(f\"area of circle: \", area_of_circle)\n",
        "print(f\"circumference of circle: \", circumference_of_circle)\n",
        "radius_input = int(input(\"enter radius\"))      #To take the input from the console\n",
        "new_area = 3.14*radius_input*radius_input\n",
        "print(f\"Area from user input radius: \", new_area)\n"
      ]
    }
  ]
}