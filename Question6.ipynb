{
  "nbformat": 4,
  "nbformat_minor": 0,
  "metadata": {
    "colab": {
      "provenance": [],
      "authorship_tag": "ABX9TyNZwVJLeKUyBaXAbv4xnn61",
      "include_colab_link": true
    },
    "kernelspec": {
      "name": "python3",
      "display_name": "Python 3"
    },
    "language_info": {
      "name": "python"
    }
  },
  "cells": [
    {
      "cell_type": "markdown",
      "metadata": {
        "id": "view-in-github",
        "colab_type": "text"
      },
      "source": [
        "<a href=\"https://colab.research.google.com/github/PremsaiYendodu222/MachineLearning/blob/main/Question6.ipynb\" target=\"_parent\"><img src=\"https://colab.research.google.com/assets/colab-badge.svg\" alt=\"Open In Colab\"/></a>"
      ]
    },
    {
      "cell_type": "code",
      "execution_count": 6,
      "metadata": {
        "colab": {
          "base_uri": "https://localhost:8080/"
        },
        "id": "0WNDoFXb4-AV",
        "outputId": "49d7bda4-ff26-4df7-c867-cdad1c8a7f54"
      },
      "outputs": [
        {
          "output_type": "stream",
          "name": "stdout",
          "text": [
            "['I', 'am', 'a', 'teacher', 'and', 'I', 'love', 'to', 'inspire', 'and', 'teach', 'people']\n",
            "number of unique words in the given string:  10\n"
          ]
        }
      ],
      "source": [
        "#QUESTION 6\n",
        "\n",
        "sentence = \"I am a teacher and I love to inspire and teach people\"\n",
        "list = sentence.split(' ')          #Split function by default uses whiteSpaces as the separator in the string sentence\n",
        "print(list)\n",
        "unique_words=len(set(list))                #number of unique words in given string\n",
        "print(f\"number of unique words in the given string: \",unique_words )      # printing the Unique_words length"
      ]
    }
  ]
}