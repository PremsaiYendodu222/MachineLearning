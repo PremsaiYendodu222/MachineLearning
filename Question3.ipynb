{
  "nbformat": 4,
  "nbformat_minor": 0,
  "metadata": {
    "colab": {
      "provenance": [],
      "authorship_tag": "ABX9TyN6jOPO/oq/5Tn7a5uS5kfB",
      "include_colab_link": true
    },
    "kernelspec": {
      "name": "python3",
      "display_name": "Python 3"
    },
    "language_info": {
      "name": "python"
    }
  },
  "cells": [
    {
      "cell_type": "markdown",
      "metadata": {
        "id": "view-in-github",
        "colab_type": "text"
      },
      "source": [
        "<a href=\"https://colab.research.google.com/github/PremsaiYendodu222/MachineLearning/blob/main/Question3.ipynb\" target=\"_parent\"><img src=\"https://colab.research.google.com/assets/colab-badge.svg\" alt=\"Open In Colab\"/></a>"
      ]
    },
    {
      "cell_type": "code",
      "execution_count": 3,
      "metadata": {
        "colab": {
          "base_uri": "https://localhost:8080/"
        },
        "id": "0WNDoFXb4-AV",
        "outputId": "a2f6dbd7-421c-41e8-959a-bb34801afea5"
      },
      "outputs": [
        {
          "output_type": "stream",
          "name": "stdout",
          "text": [
            "no of siblings: 9\n",
            "('Sai', 'Prasanna', 'Kumar', 'Pandu', 'Ramya', 'Sowmya', 'Tej', 'Rekha', 'Sudishna')\n",
            "type:  <class 'tuple'>\n",
            "family member:  ('Sai', 'Prasanna', 'Kumar', 'Pandu', 'Ramya', 'Sowmya', 'Tej', 'Rekha', 'Sudishna', 'sambasiva_Rao', 'Koteswaramma')\n"
          ]
        }
      ],
      "source": [
        "#QUESTION 3\n",
        "\n",
        "brothers = (\"Sai\", \"Prasanna\", \"Kumar\", \"Pandu\")    #Created a brother tuple\n",
        "sisters = (\"Ramya\", \"Sowmya\", \"Tej\", \"Rekha\",\"Sudishna\")  #Created a sisters tuple\n",
        "siblings = brothers+sisters                           #Adding the siblings tuple\n",
        "print(f\"no of siblings: {len(siblings)}\")             #Printing the number of siblings\n",
        "print(siblings)\n",
        "family_member = ()                           # created a family_member tuple\n",
        "family_member += siblings + (\"sambasiva_Rao\", \"Koteswaramma\")  # modifying the family_member tuple by adding sibling to it\n",
        "print(\"type: \",type(family_member))           # Printing the type of family_member\n",
        "print(\"family member: \",family_member)\n"
      ]
    }
  ]
}